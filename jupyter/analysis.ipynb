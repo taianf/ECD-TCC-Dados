{
 "cells": [
  {
   "cell_type": "code",
   "execution_count": 1,
   "metadata": {},
   "outputs": [],
   "source": [
    "# !pip install pipenv\n",
    "# !pipenv install\n"
   ]
  },
  {
   "cell_type": "code",
   "execution_count": 2,
   "metadata": {},
   "outputs": [
    {
     "name": "stderr",
     "output_type": "stream",
     "text": [
      "WARNING:root:'PYARROW_IGNORE_TIMEZONE' environment variable was not set. It is required to set this environment variable to '1' in both driver and executor sides if you use pyarrow>=2.0.0. pandas-on-Spark will set it for you but it does not work if there is a Spark context already launched.\n"
     ]
    }
   ],
   "source": [
    "import os\n",
    "import sys\n",
    "\n",
    "import pyspark.pandas as ps\n",
    "from pyspark.conf import SparkConf\n",
    "from pyspark.ml.evaluation import MulticlassClassificationEvaluator\n",
    "from pyspark.ml.tuning import CrossValidatorModel\n",
    "from pyspark.sql import SparkSession\n"
   ]
  },
  {
   "cell_type": "code",
   "execution_count": 3,
   "metadata": {},
   "outputs": [],
   "source": [
    "# Create PySpark SparkSession\n",
    "sparkConf = (\n",
    "    SparkConf()\n",
    "    .setAppName(\"ECD_TCC\")\n",
    "    .setMaster(\"local[*]\")\n",
    "    .setAll([(k, v) for k, v in {\n",
    "        \"spark.driver.memory\": \"12g\",\n",
    "        \"spark.executor.memory\": \"12g\",\n",
    "        \"spark.sql.warehouse.dir\": \"spark-warehouse\"\n",
    "    }.items()])\n",
    ")\n",
    "os.environ['PYSPARK_PYTHON'] = sys.executable\n",
    "os.environ['PYSPARK_DRIVER_PYTHON'] = sys.executable\n"
   ]
  },
  {
   "cell_type": "code",
   "execution_count": 4,
   "metadata": {},
   "outputs": [],
   "source": [
    "spark = SparkSession.builder.config(conf=sparkConf).enableHiveSupport().getOrCreate()\n"
   ]
  },
  {
   "cell_type": "code",
   "execution_count": 5,
   "metadata": {},
   "outputs": [],
   "source": [
    "datasetsPath = \"../datasets\"\n",
    "modelsPath = f\"{datasetsPath}/model\"\n",
    "features_columns = list(spark.read.json(f\"{datasetsPath}/features\").toPandas()[\"value\"])\n",
    "features_columns.append(\"EVOLUCAO\")\n",
    "raw_data = spark.read.csv(f\"{datasetsPath}/raw\", header=True, sep=\";\").select(features_columns).cache()\n",
    "training_data = spark.read.parquet(f\"{datasetsPath}/training\").cache()\n",
    "test_data = spark.read.parquet(f\"{datasetsPath}/test\").cache()"
   ]
  },
  {
   "cell_type": "code",
   "execution_count": 6,
   "outputs": [],
   "source": [
    "predictionCols = [\"label\", \"prediction\", \"rawPrediction\", \"probability\", \"features\"]\n",
    "prediction_cols = [\"label\", \"prediction\", \"rawPrediction\", \"probability\", \"features\"]\n",
    "columnsMetrics = [\"modelo\", \"tempo de treino\", \"f1\", \"accuracy\", \"weightedPrecision\", \"weightedRecall\"]\n",
    "evaluator = MulticlassClassificationEvaluator()\n"
   ],
   "metadata": {
    "collapsed": false
   }
  },
  {
   "cell_type": "code",
   "execution_count": 7,
   "outputs": [
    {
     "data": {
      "text/plain": "  CARDIOPATI HEMATOLOGI NEUROLOGIC PNEUMOPATI IMUNODEPRE SIND_DOWN OBESIDADE HEPATICA DIABETES RENAL  ASMA EVOLUCAO\n0          2          2          2          2          2         2         2        2        2     2     2        1\n1          2          2          2          2          1         2         2        2        2     2     2        2\n2       None       None       None       None       None      None      None     None     None  None  None        1\n3       None       None       None       None       None      None      None     None        1  None  None        1\n4       None       None       None       None       None      None      None     None     None  None  None        1",
      "text/html": "<div>\n<style scoped>\n    .dataframe tbody tr th:only-of-type {\n        vertical-align: middle;\n    }\n\n    .dataframe tbody tr th {\n        vertical-align: top;\n    }\n\n    .dataframe thead th {\n        text-align: right;\n    }\n</style>\n<table border=\"1\" class=\"dataframe\">\n  <thead>\n    <tr style=\"text-align: right;\">\n      <th></th>\n      <th>CARDIOPATI</th>\n      <th>HEMATOLOGI</th>\n      <th>NEUROLOGIC</th>\n      <th>PNEUMOPATI</th>\n      <th>IMUNODEPRE</th>\n      <th>SIND_DOWN</th>\n      <th>OBESIDADE</th>\n      <th>HEPATICA</th>\n      <th>DIABETES</th>\n      <th>RENAL</th>\n      <th>ASMA</th>\n      <th>EVOLUCAO</th>\n    </tr>\n  </thead>\n  <tbody>\n    <tr>\n      <th>0</th>\n      <td>2</td>\n      <td>2</td>\n      <td>2</td>\n      <td>2</td>\n      <td>2</td>\n      <td>2</td>\n      <td>2</td>\n      <td>2</td>\n      <td>2</td>\n      <td>2</td>\n      <td>2</td>\n      <td>1</td>\n    </tr>\n    <tr>\n      <th>1</th>\n      <td>2</td>\n      <td>2</td>\n      <td>2</td>\n      <td>2</td>\n      <td>1</td>\n      <td>2</td>\n      <td>2</td>\n      <td>2</td>\n      <td>2</td>\n      <td>2</td>\n      <td>2</td>\n      <td>2</td>\n    </tr>\n    <tr>\n      <th>2</th>\n      <td>None</td>\n      <td>None</td>\n      <td>None</td>\n      <td>None</td>\n      <td>None</td>\n      <td>None</td>\n      <td>None</td>\n      <td>None</td>\n      <td>None</td>\n      <td>None</td>\n      <td>None</td>\n      <td>1</td>\n    </tr>\n    <tr>\n      <th>3</th>\n      <td>None</td>\n      <td>None</td>\n      <td>None</td>\n      <td>None</td>\n      <td>None</td>\n      <td>None</td>\n      <td>None</td>\n      <td>None</td>\n      <td>1</td>\n      <td>None</td>\n      <td>None</td>\n      <td>1</td>\n    </tr>\n    <tr>\n      <th>4</th>\n      <td>None</td>\n      <td>None</td>\n      <td>None</td>\n      <td>None</td>\n      <td>None</td>\n      <td>None</td>\n      <td>None</td>\n      <td>None</td>\n      <td>None</td>\n      <td>None</td>\n      <td>None</td>\n      <td>1</td>\n    </tr>\n  </tbody>\n</table>\n</div>"
     },
     "execution_count": 7,
     "metadata": {},
     "output_type": "execute_result"
    }
   ],
   "source": [
    "raw_data.pandas_api().head()\n"
   ],
   "metadata": {
    "collapsed": false
   }
  },
  {
   "cell_type": "code",
   "execution_count": 8,
   "outputs": [
    {
     "data": {
      "text/plain": "   CARDIOPATI  HEMATOLOGI  SIND_DOWN  HEPATICA  ASMA  DIABETES  NEUROLOGIC  PNEUMOPATI  IMUNODEPRE  RENAL  OBESIDADE EVOLUCAO  label                                                 features\n0           0           0          0         0     0         0           0           0           0      0          0        2    1.0  (0.0, 0.0, 0.0, 0.0, 0.0, 0.0, 0.0, 0.0, 0.0, 0.0, 0.0)\n1           0           0          0         0     0         0           0           0           0      0          0        2    1.0  (0.0, 0.0, 0.0, 0.0, 0.0, 0.0, 0.0, 0.0, 0.0, 0.0, 0.0)\n2           0           0          0         0     0         0           0           0           0      0          0        2    1.0  (0.0, 0.0, 0.0, 0.0, 0.0, 0.0, 0.0, 0.0, 0.0, 0.0, 0.0)\n3           0           0          0         0     0         0           0           0           0      0          0        2    1.0  (0.0, 0.0, 0.0, 0.0, 0.0, 0.0, 0.0, 0.0, 0.0, 0.0, 0.0)\n4           0           0          0         0     0         0           0           0           0      0          0        2    1.0  (0.0, 0.0, 0.0, 0.0, 0.0, 0.0, 0.0, 0.0, 0.0, 0.0, 0.0)",
      "text/html": "<div>\n<style scoped>\n    .dataframe tbody tr th:only-of-type {\n        vertical-align: middle;\n    }\n\n    .dataframe tbody tr th {\n        vertical-align: top;\n    }\n\n    .dataframe thead th {\n        text-align: right;\n    }\n</style>\n<table border=\"1\" class=\"dataframe\">\n  <thead>\n    <tr style=\"text-align: right;\">\n      <th></th>\n      <th>CARDIOPATI</th>\n      <th>HEMATOLOGI</th>\n      <th>SIND_DOWN</th>\n      <th>HEPATICA</th>\n      <th>ASMA</th>\n      <th>DIABETES</th>\n      <th>NEUROLOGIC</th>\n      <th>PNEUMOPATI</th>\n      <th>IMUNODEPRE</th>\n      <th>RENAL</th>\n      <th>OBESIDADE</th>\n      <th>EVOLUCAO</th>\n      <th>label</th>\n      <th>features</th>\n    </tr>\n  </thead>\n  <tbody>\n    <tr>\n      <th>0</th>\n      <td>0</td>\n      <td>0</td>\n      <td>0</td>\n      <td>0</td>\n      <td>0</td>\n      <td>0</td>\n      <td>0</td>\n      <td>0</td>\n      <td>0</td>\n      <td>0</td>\n      <td>0</td>\n      <td>2</td>\n      <td>1.0</td>\n      <td>(0.0, 0.0, 0.0, 0.0, 0.0, 0.0, 0.0, 0.0, 0.0, ...</td>\n    </tr>\n    <tr>\n      <th>1</th>\n      <td>0</td>\n      <td>0</td>\n      <td>0</td>\n      <td>0</td>\n      <td>0</td>\n      <td>0</td>\n      <td>0</td>\n      <td>0</td>\n      <td>0</td>\n      <td>0</td>\n      <td>0</td>\n      <td>2</td>\n      <td>1.0</td>\n      <td>(0.0, 0.0, 0.0, 0.0, 0.0, 0.0, 0.0, 0.0, 0.0, ...</td>\n    </tr>\n    <tr>\n      <th>2</th>\n      <td>0</td>\n      <td>0</td>\n      <td>0</td>\n      <td>0</td>\n      <td>0</td>\n      <td>0</td>\n      <td>0</td>\n      <td>0</td>\n      <td>0</td>\n      <td>0</td>\n      <td>0</td>\n      <td>2</td>\n      <td>1.0</td>\n      <td>(0.0, 0.0, 0.0, 0.0, 0.0, 0.0, 0.0, 0.0, 0.0, ...</td>\n    </tr>\n    <tr>\n      <th>3</th>\n      <td>0</td>\n      <td>0</td>\n      <td>0</td>\n      <td>0</td>\n      <td>0</td>\n      <td>0</td>\n      <td>0</td>\n      <td>0</td>\n      <td>0</td>\n      <td>0</td>\n      <td>0</td>\n      <td>2</td>\n      <td>1.0</td>\n      <td>(0.0, 0.0, 0.0, 0.0, 0.0, 0.0, 0.0, 0.0, 0.0, ...</td>\n    </tr>\n    <tr>\n      <th>4</th>\n      <td>0</td>\n      <td>0</td>\n      <td>0</td>\n      <td>0</td>\n      <td>0</td>\n      <td>0</td>\n      <td>0</td>\n      <td>0</td>\n      <td>0</td>\n      <td>0</td>\n      <td>0</td>\n      <td>2</td>\n      <td>1.0</td>\n      <td>(0.0, 0.0, 0.0, 0.0, 0.0, 0.0, 0.0, 0.0, 0.0, ...</td>\n    </tr>\n  </tbody>\n</table>\n</div>"
     },
     "execution_count": 8,
     "metadata": {},
     "output_type": "execute_result"
    }
   ],
   "source": [
    "training_data.pandas_api().head()"
   ],
   "metadata": {
    "collapsed": false
   }
  },
  {
   "cell_type": "code",
   "execution_count": 9,
   "outputs": [
    {
     "data": {
      "text/plain": "            CARDIOPATI  HEMATOLOGI  SIND_DOWN  HEPATICA      ASMA  DIABETES  NEUROLOGIC  PNEUMOPATI  IMUNODEPRE     RENAL  OBESIDADE     label\nCARDIOPATI    1.000000    0.015322   0.001932  0.019733  0.017607  0.295425    0.063263    0.083807    0.003220  0.109294   0.080128  0.144271\nHEMATOLOGI    0.015322    1.000000   0.038670  0.054904  0.020365  0.008400    0.022289    0.026266    0.090507  0.031400   0.003430  0.018789\nSIND_DOWN     0.001932    0.038670   1.000000  0.038698  0.022756  0.003409    0.018303    0.012879    0.009508  0.010215   0.012351  0.007439\nHEPATICA      0.019733    0.054904   0.038698  1.000000  0.017758  0.025551    0.019534    0.026510    0.050471  0.047893   0.007797  0.034582\nASMA          0.017607    0.020365   0.022756  0.017758  1.000000  0.007869    0.002715    0.056648    0.001986  0.005460   0.050318 -0.011624\nDIABETES      0.295425    0.008400   0.003409  0.025551  0.007869  1.000000    0.018184    0.024878   -0.001860  0.095495   0.076988  0.119442\nNEUROLOGIC    0.063263    0.022289   0.018303  0.019534  0.002715  0.018184    1.000000    0.045663    0.020105  0.027833  -0.018928  0.071673\nPNEUMOPATI    0.083807    0.026266   0.012879  0.026510  0.056648  0.024878    0.045663    1.000000    0.038588  0.042250   0.012449  0.066175\nIMUNODEPRE    0.003220    0.090507   0.009508  0.050471  0.001986 -0.001860    0.020105    0.038588    1.000000  0.062111  -0.012802  0.046949\nRENAL         0.109294    0.031400   0.010215  0.047893  0.005460  0.095495    0.027833    0.042250    0.062111  1.000000   0.007720  0.081401\nOBESIDADE     0.080128    0.003430   0.012351  0.007797  0.050318  0.076988   -0.018928    0.012449   -0.012802  0.007720   1.000000  0.052932\nlabel         0.144271    0.018789   0.007439  0.034582 -0.011624  0.119442    0.071673    0.066175    0.046949  0.081401   0.052932  1.000000",
      "text/html": "<div>\n<style scoped>\n    .dataframe tbody tr th:only-of-type {\n        vertical-align: middle;\n    }\n\n    .dataframe tbody tr th {\n        vertical-align: top;\n    }\n\n    .dataframe thead th {\n        text-align: right;\n    }\n</style>\n<table border=\"1\" class=\"dataframe\">\n  <thead>\n    <tr style=\"text-align: right;\">\n      <th></th>\n      <th>CARDIOPATI</th>\n      <th>HEMATOLOGI</th>\n      <th>SIND_DOWN</th>\n      <th>HEPATICA</th>\n      <th>ASMA</th>\n      <th>DIABETES</th>\n      <th>NEUROLOGIC</th>\n      <th>PNEUMOPATI</th>\n      <th>IMUNODEPRE</th>\n      <th>RENAL</th>\n      <th>OBESIDADE</th>\n      <th>label</th>\n    </tr>\n  </thead>\n  <tbody>\n    <tr>\n      <th>CARDIOPATI</th>\n      <td>1.000000</td>\n      <td>0.015322</td>\n      <td>0.001932</td>\n      <td>0.019733</td>\n      <td>0.017607</td>\n      <td>0.295425</td>\n      <td>0.063263</td>\n      <td>0.083807</td>\n      <td>0.003220</td>\n      <td>0.109294</td>\n      <td>0.080128</td>\n      <td>0.144271</td>\n    </tr>\n    <tr>\n      <th>HEMATOLOGI</th>\n      <td>0.015322</td>\n      <td>1.000000</td>\n      <td>0.038670</td>\n      <td>0.054904</td>\n      <td>0.020365</td>\n      <td>0.008400</td>\n      <td>0.022289</td>\n      <td>0.026266</td>\n      <td>0.090507</td>\n      <td>0.031400</td>\n      <td>0.003430</td>\n      <td>0.018789</td>\n    </tr>\n    <tr>\n      <th>SIND_DOWN</th>\n      <td>0.001932</td>\n      <td>0.038670</td>\n      <td>1.000000</td>\n      <td>0.038698</td>\n      <td>0.022756</td>\n      <td>0.003409</td>\n      <td>0.018303</td>\n      <td>0.012879</td>\n      <td>0.009508</td>\n      <td>0.010215</td>\n      <td>0.012351</td>\n      <td>0.007439</td>\n    </tr>\n    <tr>\n      <th>HEPATICA</th>\n      <td>0.019733</td>\n      <td>0.054904</td>\n      <td>0.038698</td>\n      <td>1.000000</td>\n      <td>0.017758</td>\n      <td>0.025551</td>\n      <td>0.019534</td>\n      <td>0.026510</td>\n      <td>0.050471</td>\n      <td>0.047893</td>\n      <td>0.007797</td>\n      <td>0.034582</td>\n    </tr>\n    <tr>\n      <th>ASMA</th>\n      <td>0.017607</td>\n      <td>0.020365</td>\n      <td>0.022756</td>\n      <td>0.017758</td>\n      <td>1.000000</td>\n      <td>0.007869</td>\n      <td>0.002715</td>\n      <td>0.056648</td>\n      <td>0.001986</td>\n      <td>0.005460</td>\n      <td>0.050318</td>\n      <td>-0.011624</td>\n    </tr>\n    <tr>\n      <th>DIABETES</th>\n      <td>0.295425</td>\n      <td>0.008400</td>\n      <td>0.003409</td>\n      <td>0.025551</td>\n      <td>0.007869</td>\n      <td>1.000000</td>\n      <td>0.018184</td>\n      <td>0.024878</td>\n      <td>-0.001860</td>\n      <td>0.095495</td>\n      <td>0.076988</td>\n      <td>0.119442</td>\n    </tr>\n    <tr>\n      <th>NEUROLOGIC</th>\n      <td>0.063263</td>\n      <td>0.022289</td>\n      <td>0.018303</td>\n      <td>0.019534</td>\n      <td>0.002715</td>\n      <td>0.018184</td>\n      <td>1.000000</td>\n      <td>0.045663</td>\n      <td>0.020105</td>\n      <td>0.027833</td>\n      <td>-0.018928</td>\n      <td>0.071673</td>\n    </tr>\n    <tr>\n      <th>PNEUMOPATI</th>\n      <td>0.083807</td>\n      <td>0.026266</td>\n      <td>0.012879</td>\n      <td>0.026510</td>\n      <td>0.056648</td>\n      <td>0.024878</td>\n      <td>0.045663</td>\n      <td>1.000000</td>\n      <td>0.038588</td>\n      <td>0.042250</td>\n      <td>0.012449</td>\n      <td>0.066175</td>\n    </tr>\n    <tr>\n      <th>IMUNODEPRE</th>\n      <td>0.003220</td>\n      <td>0.090507</td>\n      <td>0.009508</td>\n      <td>0.050471</td>\n      <td>0.001986</td>\n      <td>-0.001860</td>\n      <td>0.020105</td>\n      <td>0.038588</td>\n      <td>1.000000</td>\n      <td>0.062111</td>\n      <td>-0.012802</td>\n      <td>0.046949</td>\n    </tr>\n    <tr>\n      <th>RENAL</th>\n      <td>0.109294</td>\n      <td>0.031400</td>\n      <td>0.010215</td>\n      <td>0.047893</td>\n      <td>0.005460</td>\n      <td>0.095495</td>\n      <td>0.027833</td>\n      <td>0.042250</td>\n      <td>0.062111</td>\n      <td>1.000000</td>\n      <td>0.007720</td>\n      <td>0.081401</td>\n    </tr>\n    <tr>\n      <th>OBESIDADE</th>\n      <td>0.080128</td>\n      <td>0.003430</td>\n      <td>0.012351</td>\n      <td>0.007797</td>\n      <td>0.050318</td>\n      <td>0.076988</td>\n      <td>-0.018928</td>\n      <td>0.012449</td>\n      <td>-0.012802</td>\n      <td>0.007720</td>\n      <td>1.000000</td>\n      <td>0.052932</td>\n    </tr>\n    <tr>\n      <th>label</th>\n      <td>0.144271</td>\n      <td>0.018789</td>\n      <td>0.007439</td>\n      <td>0.034582</td>\n      <td>-0.011624</td>\n      <td>0.119442</td>\n      <td>0.071673</td>\n      <td>0.066175</td>\n      <td>0.046949</td>\n      <td>0.081401</td>\n      <td>0.052932</td>\n      <td>1.000000</td>\n    </tr>\n  </tbody>\n</table>\n</div>"
     },
     "execution_count": 9,
     "metadata": {},
     "output_type": "execute_result"
    }
   ],
   "source": [
    "training_data.pandas_api().corr()\n"
   ],
   "metadata": {
    "collapsed": false
   }
  },
  {
   "cell_type": "markdown",
   "source": [
    "## Regressão Logística"
   ],
   "metadata": {
    "collapsed": false
   }
  },
  {
   "cell_type": "code",
   "execution_count": 10,
   "metadata": {},
   "outputs": [
    {
     "name": "stdout",
     "output_type": "stream",
     "text": [
      "+-------------------+---------------+------------------+-----------------+------------------+-----------------+\n",
      "|             modelo|tempo de treino|                f1|         accuracy| weightedPrecision|   weightedRecall|\n",
      "+-------------------+---------------+------------------+-----------------+------------------+-----------------+\n",
      "|regressão logística|           3219|0.5939809636583079|0.594266296618053|0.5945083183974529|0.594266296618053|\n",
      "+-------------------+---------------+------------------+-----------------+------------------+-----------------+\n",
      "\n",
      "Intercept: -0.045680844076801515\n"
     ]
    },
    {
     "data": {
      "text/plain": "       feature  coefficient\n4   IMUNODEPRE    -0.002257\n2   NEUROLOGIC     0.000000\n1   HEMATOLOGI     0.022409\n10        ASMA     0.030099\n8     DIABETES     0.048977\n5    SIND_DOWN     0.054396\n3   PNEUMOPATI     0.056360\n0   CARDIOPATI     0.059478\n7     HEPATICA     0.063412\n6    OBESIDADE     0.064738\n9        RENAL     0.078249",
      "text/html": "<div>\n<style scoped>\n    .dataframe tbody tr th:only-of-type {\n        vertical-align: middle;\n    }\n\n    .dataframe tbody tr th {\n        vertical-align: top;\n    }\n\n    .dataframe thead th {\n        text-align: right;\n    }\n</style>\n<table border=\"1\" class=\"dataframe\">\n  <thead>\n    <tr style=\"text-align: right;\">\n      <th></th>\n      <th>feature</th>\n      <th>coefficient</th>\n    </tr>\n  </thead>\n  <tbody>\n    <tr>\n      <th>4</th>\n      <td>IMUNODEPRE</td>\n      <td>-0.002257</td>\n    </tr>\n    <tr>\n      <th>2</th>\n      <td>NEUROLOGIC</td>\n      <td>0.000000</td>\n    </tr>\n    <tr>\n      <th>1</th>\n      <td>HEMATOLOGI</td>\n      <td>0.022409</td>\n    </tr>\n    <tr>\n      <th>10</th>\n      <td>ASMA</td>\n      <td>0.030099</td>\n    </tr>\n    <tr>\n      <th>8</th>\n      <td>DIABETES</td>\n      <td>0.048977</td>\n    </tr>\n    <tr>\n      <th>5</th>\n      <td>SIND_DOWN</td>\n      <td>0.054396</td>\n    </tr>\n    <tr>\n      <th>3</th>\n      <td>PNEUMOPATI</td>\n      <td>0.056360</td>\n    </tr>\n    <tr>\n      <th>0</th>\n      <td>CARDIOPATI</td>\n      <td>0.059478</td>\n    </tr>\n    <tr>\n      <th>7</th>\n      <td>HEPATICA</td>\n      <td>0.063412</td>\n    </tr>\n    <tr>\n      <th>6</th>\n      <td>OBESIDADE</td>\n      <td>0.064738</td>\n    </tr>\n    <tr>\n      <th>9</th>\n      <td>RENAL</td>\n      <td>0.078249</td>\n    </tr>\n  </tbody>\n</table>\n</div>"
     },
     "execution_count": 10,
     "metadata": {},
     "output_type": "execute_result"
    }
   ],
   "source": [
    "lr_model = CrossValidatorModel.load(f\"{modelsPath}/spark-model-lr\")\n",
    "lr_predictions = lr_model.transform(test_data)\n",
    "\n",
    "metricsDF = spark.createDataFrame([[\n",
    "    \"regressão logística\",\n",
    "    3219,\n",
    "    evaluator.evaluate(lr_predictions, {evaluator.metricName: \"weightedFMeasure\"}),\n",
    "    evaluator.evaluate(lr_predictions, {evaluator.metricName: \"accuracy\"}),\n",
    "    evaluator.evaluate(lr_predictions, {evaluator.metricName: \"weightedPrecision\"}),\n",
    "    evaluator.evaluate(lr_predictions, {evaluator.metricName: \"weightedRecall\"})\n",
    "]], columnsMetrics)\n",
    "metricsDF.show()\n",
    "metricsDF.write.mode(\"append\").saveAsTable(\"metrics\")\n",
    "\n",
    "best_lr_pipeline = lr_model.bestModel\n",
    "best_lr_model = best_lr_pipeline.stages[-1]\n",
    "list_coefficients_lr = best_lr_model.coefficients\n",
    "intercept = best_lr_model.intercept\n",
    "columns_coefficients = list(zip(features_columns, list_coefficients_lr))\n",
    "frame = ps.DataFrame(columns_coefficients, columns=[\"feature\", \"coefficient\"])\n",
    "print(f\"Intercept: {intercept}\")\n",
    "frame.sort_values(\"coefficient\")\n"
   ]
  },
  {
   "cell_type": "markdown",
   "metadata": {},
   "source": [
    "## Floresta aleatória"
   ]
  },
  {
   "cell_type": "code",
   "execution_count": 11,
   "metadata": {},
   "outputs": [
    {
     "name": "stdout",
     "output_type": "stream",
     "text": [
      "Avaliação do modelo de floresta aleatória: 0.5939556127541818\n"
     ]
    }
   ],
   "source": [
    "rf_model = CrossValidatorModel.load(f\"{modelsPath}/spark-model-rf\")\n",
    "rf_predictions = rf_model.transform(test_data)\n",
    "print(f\"Avaliação do modelo de floresta aleatória: {evaluator.evaluate(rf_predictions)}\")\n"
   ]
  },
  {
   "cell_type": "markdown",
   "metadata": {},
   "source": [
    "## Multilayer perceptron"
   ]
  },
  {
   "cell_type": "code",
   "execution_count": 12,
   "metadata": {},
   "outputs": [
    {
     "name": "stdout",
     "output_type": "stream",
     "text": [
      "Avaliação do modelo de multilayer perceptron: 0.5948099511166423\n"
     ]
    }
   ],
   "source": [
    "mlp_model = CrossValidatorModel.load(f\"{modelsPath}/spark-model-mlp\")\n",
    "mlp_predictions = mlp_model.transform(test_data)\n",
    "print(f\"Avaliação do modelo de multilayer perceptron: {evaluator.evaluate(mlp_predictions)}\")\n"
   ]
  },
  {
   "cell_type": "code",
   "execution_count": 12,
   "metadata": {},
   "outputs": [],
   "source": []
  }
 ],
 "metadata": {
  "kernelspec": {
   "display_name": "Python 3 (ipykernel)",
   "language": "python",
   "name": "python3"
  },
  "language_info": {
   "codemirror_mode": {
    "name": "ipython",
    "version": 3
   },
   "file_extension": ".py",
   "mimetype": "text/x-python",
   "name": "python",
   "nbconvert_exporter": "python",
   "pygments_lexer": "ipython3",
   "version": "3.10.7"
  },
  "vscode": {
   "interpreter": {
    "hash": "f708a36acfaef0acf74ccd43dfb58100269bf08fb79032a1e0a6f35bd9856f51"
   }
  }
 },
 "nbformat": 4,
 "nbformat_minor": 4
}
